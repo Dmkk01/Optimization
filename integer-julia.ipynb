{
 "cells": [
  {
   "cell_type": "markdown",
   "metadata": {},
   "source": [
    "## Demo 1: Integer & binary optimisation\n",
    "\n",
    "Solve the optimisation problem\n",
    "\n",
    "$$\n",
    "\\begin{array}{lrll}\n",
    "\\max. &2x &  -\\;\\;\\; 1000y  & \\\\\n",
    "\\\\\n",
    "\\text{s.t.} &x & \\leq 750y\\\\\n",
    "& \\;\\;\\;&x \\in \\mathbb{Z}_+ &\\\\\n",
    "&\\;\\;\\; &y \\in \\{0,1\\}&\n",
    "\\end{array}\n",
    "$$"
   ]
  },
  {
   "cell_type": "code",
   "execution_count": 20,
   "metadata": {},
   "outputs": [
    {
     "name": "stdout",
     "output_type": "stream",
     "text": [
      "Optimal values: 750.0,1.0,\n",
      "Optimal objective: 500.0\n"
     ]
    }
   ],
   "source": [
    "#Part (a)\n",
    "using JuMP, Cbc #modelling language and solver\n",
    "\n",
    "d1 = Model(with_optimizer(Cbc.Optimizer,logLevel = 0)) #creates the model, select the solver  \n",
    "\n",
    "@variable(d1, x >= 0, Int) # creates the non-negative integer variable x\n",
    "@variable(d1, y, Bin) # creates the binary variable x\n",
    "\n",
    "# @constraint(d1, x <= 750y) # constraint 1\n",
    "\n",
    "@objective(d1, Max, 2x-1000y) # declare the objective function\n",
    "\n",
    "# optimize!(d1) # solve the optimisation problem\n",
    "\n",
    "# # Printing out the solution\n",
    "# x_value = value.(x)\n",
    "# y_value = value.(y)\n",
    "# print(\"Optimal values: $(x_value),$(y_value),\\nOptimal objective: $(objective_value(d1))\\n\")"
   ]
  },
  {
   "cell_type": "code",
   "execution_count": 21,
   "metadata": {},
   "outputs": [
    {
     "name": "stdout",
     "output_type": "stream",
     "text": [
      "Optimal values: 750.0,1.0,\n",
      "Optimal objective: 500.0\n"
     ]
    }
   ],
   "source": [
    "#Part (b)\n",
    "\n",
    "# comment out constraint one (and optimizie! and printing) above and add new constraint\n",
    "@constraint(d1, x <= 200 + 550y)\n",
    "\n",
    "# then run optimisation again\n",
    "optimize!(d1)\n",
    "\n",
    "#Printing out the solution\n",
    "x_value = value.(x)\n",
    "y_value = value.(y)\n",
    "print(\"Optimal values: $(x_value),$(y_value),\\nOptimal objective: $(objective_value(d1))\\n\")\n"
   ]
  },
  {
   "cell_type": "code",
   "execution_count": 22,
   "metadata": {},
   "outputs": [
    {
     "name": "stdout",
     "output_type": "stream",
     "text": [
      "Optimal values: [8.0, 7.0],1.0,\n",
      "Optimal objective: 874.0\n"
     ]
    }
   ],
   "source": [
    "#Part (c)\n",
    "\n",
    "d1c = Model(with_optimizer(Cbc.Optimizer,logLevel = 0)) #creates the model, select the solver  \n",
    "M = 10000\n",
    "\n",
    "@variable(d1c, x[1:2] >= 0, Int) # creates the non-negative integer variable x\n",
    "@variable(d1c, y, Bin) # creates the binary variable x\n",
    "\n",
    "@constraint(d1c, x[1] + x[2] <= 15)\n",
    "@constraint(d1c, x[1] - x[2] <= M*y)\n",
    "@constraint(d1c, x[2] - x[1] <= M*(1-y))\n",
    "\n",
    "@objective(d1c, Max, 25x[1]+32x[2]+450y+270*(1-y))\n",
    "\n",
    "optimize!(d1c)\n",
    "\n",
    "x_value = value.(x)\n",
    "y_value = value.(y)\n",
    "print(\"Optimal values: $(x_value),$(y_value),\\nOptimal objective: $(objective_value(d1c))\\n\")"
   ]
  },
  {
   "cell_type": "markdown",
   "metadata": {},
   "source": [
    "## Problem 1: Sudoku"
   ]
  },
  {
   "cell_type": "code",
   "execution_count": 2,
   "metadata": {},
   "outputs": [
    {
     "data": {
      "text/plain": [
       "9×9 Array{Float64,2}:\n",
       " 9.0  6.0  3.0  1.0  7.0  4.0  2.0  5.0  8.0\n",
       " 1.0  7.0  8.0  3.0  2.0  5.0  6.0  4.0  9.0\n",
       " 2.0  5.0  4.0  6.0  8.0  9.0  7.0  3.0  1.0\n",
       " 8.0  2.0  1.0  4.0  3.0  7.0  5.0  9.0  6.0\n",
       " 4.0  9.0  6.0  8.0  5.0  2.0  3.0  1.0  7.0\n",
       " 7.0  3.0  5.0  9.0  6.0  1.0  8.0  2.0  4.0\n",
       " 5.0  8.0  9.0  7.0  1.0  3.0  4.0  6.0  2.0\n",
       " 3.0  1.0  7.0  2.0  4.0  6.0  9.0  8.0  5.0\n",
       " 6.0  4.0  2.0  5.0  9.0  8.0  1.0  7.0  3.0"
      ]
     },
     "execution_count": 2,
     "metadata": {},
     "output_type": "execute_result"
    }
   ],
   "source": [
    "using JuMP, Cbc #modelling language and solver\n",
    "\n",
    "P2 = Model(with_optimizer(Cbc.Optimizer,logLevel = 0)) #creates the model, select the solver  \n",
    "I = 1:9\n",
    "J = 1:9\n",
    "K = 1:9\n",
    "M = 1:3\n",
    "N = 1:3\n",
    "\n",
    "@variable(P2, x[i in I,j in J,k in K], Bin) # creates the binary variables x_ijk\n",
    "\n",
    "@constraint(P2, [i in I, j in J], sum(x[i,j,k] for k in K) == 1) # can only have 1 value in each cell (i,j)\n",
    "@constraint(P2, [j in J, k in K], sum(x[i,j,k] for i in I) == 1) # can only have one value in each row\n",
    "@constraint(P2, [i in I, k in K], sum(x[i,j,k] for j in J) == 1) # can only have one value in each coulmn\n",
    "@constraint(P2, [k in K, m in N, n in N], sum(sum([x[i,j,k] for j in (3*n-2):(3*n)]) for i in (3*m-2):(3*m)) == 1) # only one value found is each subgrid\n",
    "\n",
    "@constraint(P2, x[1,2,6]+x[1,4,1]+x[1,6,4]+x[1,8,5] == 4)\n",
    "@constraint(P2, x[2,3,8]+x[2,4,3]+x[2,6,5]+x[2,7,6] == 4)\n",
    "@constraint(P2, x[3,1,2]+x[3,7,7] == 2)\n",
    "@constraint(P2, x[4,1,8]+x[4,4,4]+x[4,6,7]+x[4,9,6] == 4)\n",
    "@constraint(P2, x[5,3,6]+x[5,7,3] == 2)\n",
    "@constraint(P2, x[6,1,7]+x[6,4,9]+x[6,6,1]+x[6,9,4] == 4)\n",
    "@constraint(P2, x[7,1,5]+x[7,9,2] == 2)\n",
    "@constraint(P2, x[8,3,7]+x[8,4,2]+x[8,6,6]+x[8,7,9] == 4)\n",
    "@constraint(P2, x[9,2,4]+x[9,4,5]+x[9,6,8]+x[9,8,7] == 4)\n",
    "\n",
    "\n",
    "@objective(P2, Min,100) # declare the dummy objective function\n",
    "\n",
    "optimize!(P2) # solve the optimisation problem\n",
    "\n",
    "#Printing out the solution\n",
    "\n",
    "# this prints out all the arrays for each value\n",
    "x_value = value.(x)\n",
    "# print(\"Optimal values: $(x_value)\")\n",
    "\n",
    "# this creates the sudoku\n",
    "function print_sudoku(x_value)\n",
    "    sudoku = zeros(9,9) \n",
    "    for i in I\n",
    "        sudoku .= sudoku .+ x_value[:,:,i]*i\n",
    "    end    \n",
    "    return sudoku\n",
    "end\n",
    "\n",
    "sudoku = print_sudoku(x_value)\n",
    "\n"
   ]
  },
  {
   "cell_type": "markdown",
   "metadata": {},
   "source": [
    "## Problem 3: Store locations"
   ]
  },
  {
   "cell_type": "code",
   "execution_count": 9,
   "metadata": {},
   "outputs": [
    {
     "name": "stdout",
     "output_type": "stream",
     "text": [
      "Optimal values: 1-dimensional DenseAxisArray{Float64,1,...} with index sets:\n",
      "    Dimension 1, 1:10\n",
      "And data, a 10-element Array{Float64,1}:\n",
      " 0.0\n",
      " 0.0\n",
      " 0.0\n",
      " 0.0\n",
      " 0.0\n",
      " 1.0\n",
      " 0.0\n",
      " 1.0\n",
      " 1.0\n",
      " 0.0"
     ]
    }
   ],
   "source": [
    "using JuMP, Cbc\n",
    "\n",
    "P3 = Model(with_optimizer(Cbc.Optimizer,logLevel = 0)) #creates the model, select the solver\n",
    "\n",
    "I = 1:10\n",
    "J = 1:10\n",
    "\n",
    "A = [1 1 0 0 1 1 0 0 0 1;\n",
    "    1 1 1 0 0 0 1 1 0 0;\n",
    "    0 1 1 0 0 1 0 0 1 0;\n",
    "    0 0 0 1 0 0 1 1 0 1;\n",
    "    1 0 0 0 1 1 0 0 1 0;\n",
    "    1 0 1 0 1 1 1 1 0 0;\n",
    "    0 1 0 1 0 1 1 0 0 0;\n",
    "    0 1 0 1 0 1 0 1 1 0;\n",
    "    0 0 1 0 1 0 0 1 1 1;\n",
    "    1 0 0 1 0 0 0 0 1 1]\n",
    "\n",
    "p = [10000 15000 28000 30000 40000 30000 20000 15000 60000 12000]\n",
    "\n",
    "@variable(P3, x[j in J], Bin) # creates the binary variables x_j\n",
    "\n",
    "@constraint(P3, [i in I], sum(A[i,j] * x[j] for j in J if j != i) >= 1)\n",
    "\n",
    "@objective(P3, Min, sum((1/p[j]) * x[j] for j in J))\n",
    "\n",
    "optimize!(P3) # solve the optimisation problem\n",
    "x_value = value.(x)\n",
    "print(\"Optimal values: $(x_value)\")\n"
   ]
  },
  {
   "cell_type": "markdown",
   "metadata": {},
   "source": [
    "## Problem 4: IP and LP\n",
    "\n",
    "The LP is:\n",
    "    \\begin{align*}\n",
    "        \\max. &z = 3x_1 + 4x_2 + 5x_3\\\\\n",
    "        \\text{s.t. }& x_1 + 0.25 x_2 + 0.5 x_3 \\leq 3\\\\\n",
    "        &x_1 \\geq 1\\\\\n",
    "        &1 \\leq x_2 \\leq 2\\\\\n",
    "        &x_3 \\geq 1\n",
    "    \\end{align*}\n",
    "    \n",
    "The IP adds the domain that the decision variables must be integer, $x_1,\\ x_2, \\ x_3 \\in \\mathbb Z_+$."
   ]
  },
  {
   "cell_type": "code",
   "execution_count": 4,
   "metadata": {},
   "outputs": [
    {
     "name": "stdout",
     "output_type": "stream",
     "text": [
      "Optimal values for LP: [1.0, 2.0, 3.0],\n",
      "Optimal objective: 26.0\n"
     ]
    }
   ],
   "source": [
    "using JuMP, Cbc #modelling language and solver\n",
    "\n",
    "LP = Model(with_optimizer(Cbc.Optimizer,logLevel = 0)) #creates the model, select the solver  \n",
    "\n",
    "@variable(LP, x[1:3] >= 0)\n",
    "\n",
    "@constraint(LP, x[1] + 0.25x[2]+0.5x[3] <= 3) \n",
    "@constraint(LP,  x[1] >= 1)\n",
    "@constraint(LP, 1 <= x[2] <= 2)\n",
    "@constraint(LP, x[3] >= 1)\n",
    "\n",
    "@objective(LP, Max, 3x[1]+4x[2]+5x[3]) \n",
    "\n",
    "optimize!(LP) \n",
    "\n",
    "# Printing out the solution\n",
    "x_value = value.(x)\n",
    "print(\"Optimal values for LP: $(x_value),\\nOptimal objective: $(objective_value(LP))\\n\")"
   ]
  },
  {
   "cell_type": "code",
   "execution_count": 6,
   "metadata": {},
   "outputs": [
    {
     "name": "stdout",
     "output_type": "stream",
     "text": [
      "Optimal values for IP: [1.0, 2.0, 3.0],\n",
      "Optimal objective: 26.0\n"
     ]
    }
   ],
   "source": [
    "using JuMP, Cbc #modelling language and solver\n",
    "\n",
    "IP = Model(with_optimizer(Cbc.Optimizer,logLevel = 0)) #creates the model, select the solver  \n",
    "\n",
    "@variable(IP, x[1:3] >= 0, Int)\n",
    "\n",
    "@constraint(IP, x[1] + 0.25x[2]+0.5x[3] <= 3) \n",
    "@constraint(IP,  x[1] >= 1)\n",
    "@constraint(IP, 1 <= x[2] <= 2)\n",
    "@constraint(IP, x[3] >= 1)\n",
    "\n",
    "@objective(IP, Max, 3x[1]+4x[2]+5x[3]) \n",
    "\n",
    "optimize!(IP) \n",
    "\n",
    "# Printing out the solution\n",
    "x_value = value.(x)\n",
    "print(\"Optimal values for IP: $(x_value),\\nOptimal objective: $(objective_value(IP))\\n\")"
   ]
  }
 ],
 "metadata": {
  "kernelspec": {
   "display_name": "Julia 1.5.3",
   "language": "julia",
   "name": "julia-1.5"
  },
  "language_info": {
   "file_extension": ".jl",
   "mimetype": "application/julia",
   "name": "julia",
   "version": "1.5.3"
  }
 },
 "nbformat": 4,
 "nbformat_minor": 4
}
